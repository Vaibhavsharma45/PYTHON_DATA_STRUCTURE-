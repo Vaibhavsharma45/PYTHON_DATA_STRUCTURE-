{
  "cells": [
    {
      "cell_type": "markdown",
      "metadata": {
        "id": "view-in-github",
        "colab_type": "text"
      },
      "source": [
        "<a href=\"https://colab.research.google.com/github/Vaibhavsharma45/PYTHON_DATA_STRUCTURE-/blob/main/datastructure.ipynb\" target=\"_parent\"><img src=\"https://colab.research.google.com/assets/colab-badge.svg\" alt=\"Open In Colab\"/></a>"
      ]
    },
    {
      "cell_type": "markdown",
      "id": "6a6f98bb",
      "metadata": {
        "id": "6a6f98bb"
      },
      "source": [
        "Assignment Questions & answers"
      ]
    },
    {
      "cell_type": "markdown",
      "id": "b679d1fb",
      "metadata": {
        "id": "b679d1fb"
      },
      "source": [
        "Q1:-What are data structures, and why are they important.\n",
        "ans:-Data structures are specialized ways of organizing, storing, and managing data in a computer so that it can be used efficiently.\n",
        "\n",
        "Think of them like containers or blueprints — just as you might use different storage solutions in real life (a bookshelf for books, a drawer for clothes, a toolbox for tools), computers use different data structures depending on the type of data and the operations you want to perform.\n",
        "\n",
        "# Why They’re Important\n",
        "# Efficient Data Access\n",
        "Choosing the right data structure can make retrieving or updating data much faster.\n",
        "Example: Looking up a contact in your phone (Hash table) is faster than checking every name in a list.\n",
        "\n",
        "# Memory Optimization\n",
        "A well-chosen data structure uses memory effectively, avoiding waste.\n",
        "\n",
        " # Better Algorithm Performance\n",
        "Many algorithms are designed to work with specific data structures (e.g., graphs for shortest path algorithms).\n",
        "\n",
        "# Scalability\n",
        "When the data grows into millions or billions of elements, the right data structure keeps the system fast and manageable."
      ]
    },
    {
      "cell_type": "markdown",
      "id": "7d2ec6de",
      "metadata": {
        "id": "7d2ec6de"
      },
      "source": [
        "Q2:-Explain the difference between mutable and immutable data types with examples\n",
        "ans:-“mutable” and “immutable” mean\n",
        "# Mutable → Can be changed/modified after creation.\n",
        "\n",
        "# Immutable → Cannot be changed after creation; if you try, Python creates a new object.\n",
        "\n",
        "Think of it like:\n",
        "\n",
        "Mutable = Whiteboard (you can erase and write again).\n",
        "\n",
        "Immutable = Permanent marker on paper (to change it, you need a new sheet).\n",
        "\n",
        "# Data Type\t           Mutable?\n",
        "list\t                Yes\n",
        "dict\t                Yes\n",
        "set\t                    Yes\n",
        "tuple\t                No\n",
        "str\t                    No\n",
        "int, float, bool\t    No"
      ]
    },
    {
      "cell_type": "markdown",
      "id": "f30144e8",
      "metadata": {
        "id": "f30144e8"
      },
      "source": [
        "Q3:-What are the main differences between lists and tuples in Python\n",
        "ans:-1.  # Mutability\n",
        "List → Mutable (can be changed after creation)\n",
        "\n",
        "Tuple → Immutable (cannot be changed after creation)\n",
        "# List can change\n",
        "lst = [1, 2, 3]\n",
        "lst[0] = 99\n",
        "print(lst)  # [99, 2, 3]\n",
        "\n",
        "# Tuple cannot change\n",
        "tpl = (1, 2, 3)\n",
        "# tpl[0] = 99  #  Error\n",
        "\n",
        "2. Syntax\n",
        "List → Defined with square brackets []\n",
        "\n",
        "Tuple → Defined with parentheses ()\n",
        "\n",
        "my_list = [1, 2, 3]\n",
        "my_tuple = (1, 2, 3)\n",
        "\n",
        "3. Performance\n",
        "Tuple → Faster than lists (because they are immutable and use less memory)\n",
        "\n",
        "List → Slightly slower (extra overhead for supporting changes)\n",
        "\n",
        "4. Methods Available\n",
        "List → Many built-in methods like .append(), .remove(), .sort().\n",
        "\n",
        "Tuple → Limited methods: mainly .count() and .index()."
      ]
    },
    {
      "cell_type": "markdown",
      "id": "13261163",
      "metadata": {
        "id": "13261163"
      },
      "source": [
        "Q4:-Describe how dictionaries store data\n",
        "ans:-A dictionary in Python is an unordered collection of key–value pairs.\n",
        "You look up a value by its key — and this lookup is extremely fast because Python uses a hash table internally.\n",
        "# Example:-\n",
        "my_dict = {\"name\": \"Vibhu\", \"age\": 20}\n",
        "# Internally:\n",
        "\n",
        "\"name\" → hashed → goes to slot X → stores (\"name\", \"Vibhu\")\n",
        "\n",
        "\"age\" → hashed → goes to slot Y → stores (\"age\", 20)\n"
      ]
    },
    {
      "cell_type": "markdown",
      "id": "d93d10db",
      "metadata": {
        "id": "d93d10db"
      },
      "source": [
        "Q5:-Why might you use a set instead of a list in Python\n",
        "ans:-You might choose a set instead of a list in Python when you need fast lookups, uniqueness, and no concern for order.\n",
        "# 1. Uniqueness of Elements\n",
        "Set → Automatically removes duplicates.\n",
        "\n",
        "List → Can have duplicates; you’d need to manually check or remove them.\n",
        "\n",
        "# Using a set\n",
        "my_set = {1, 2, 2, 3}\n",
        "print(my_set)  # {1, 2, 3}\n",
        "\n",
        "# Using a list\n",
        "my_list = [1, 2, 2, 3]\n",
        "print(my_list)  # [1, 2, 2, 3]\n",
        "\n",
        "# 2. Fast Membership Testing\n",
        "Set → Average O(1) time for checking if an item exists (uses a hash table internally).\n",
        "\n",
        "List → Average O(n) time, because it may scan through every element.\n",
        "\n",
        "nums = {1, 2, 3, 4}\n",
        "print(3 in nums)  #  Very fast\n",
        "\n",
        "nums_list = [1, 2, 3, 4]\n",
        "print(3 in nums_list)  #  Slower for large data\n",
        "\n",
        "# 3. When to Prefer a Set Over a List\n",
        "You need only unique elements.\n",
        "\n",
        "You need fast membership tests (e.g., checking if something is already seen).\n",
        "\n",
        "You need set operations like union or intersection.\n",
        "\n",
        "You care about order (sets are unordered; use a list if order matters).\n",
        "\n",
        "You need indexing (sets don’t support my_set[0]).\n",
        "\n",
        "\n"
      ]
    },
    {
      "cell_type": "markdown",
      "id": "502694b0",
      "metadata": {
        "id": "502694b0"
      },
      "source": [
        "Q6:-What is a string in Python, and how is it different from a list\n",
        "ans:-A string in Python is a sequence of characters enclosed in single quotes '...', double quotes \"...\", or triple quotes '''...''' / \"\"\"...\"\"\".\n",
        "# Example:\n",
        "\n",
        "name = \"Vibhu\"\n",
        "\n",
        "# Key Differences Between a String and a List\n",
        "Feature             \tString\t                                                    List\n",
        "Data Type           \tSequence of characters\t                                    Sequence of any data types (numbers, strings, objects, etc.)\n",
        "Mutability          \tImmutable (cannot be changed in place)\t                    Mutable (elements can be changed)\n",
        "Element Type\t        Always characters\t                                        Can hold mixed data types\n",
        "Syntax\t                Quotes (' ' / \" \")\t                                        Square brackets [ ]\n",
        "Methods\t          String-specific methods like .upper(), .lower(), .replace()\t    List-specific methods like .append(), .remove(), .sort()\n",
        "Iteration\t          Iterates over characters\t                                    Iterates over elements (any type)\n",
        "Indexing/Slicing      \tYes\t                                                         Yes\n",
        "# Examples\n",
        "# String (Immutable)\n",
        "\n",
        "s = \"hello\"\n",
        "# s[0] = \"H\"  #  Error: strings are immutable\n",
        "s = \"H\" + s[1:]  #  Creates a new string\n",
        "print(s)  # \"Hello\"\n",
        "\n",
        "\n",
        "# List (Mutable)\n",
        "lst = ['h', 'e', 'l', 'l', 'o']\n",
        "lst[0] = 'H'  # Can modify in place\n",
        "print(lst)  # ['H', 'e', 'l', 'l', 'o']\n",
        "\n"
      ]
    },
    {
      "cell_type": "markdown",
      "id": "8647baa5",
      "metadata": {
        "id": "8647baa5"
      },
      "source": [
        "Q7:-How do tuples ensure data integrity in Python\n",
        "ans:-Tuples ensure data integrity in Python mainly because they are immutable — once created, their contents cannot be changed, added to, or removed.\n",
        "\n",
        "# 1. Immutability = Protection\n",
        "A tuple’s immutability means that after it’s created, the values inside stay the same forever (unless they contain a mutable object inside, which can change separately).\n",
        "\n",
        "This prevents accidental modifications, which helps preserve the original data.\n",
        "\n",
        "Example:\n",
        "coordinates = (28.6139, 77.2090)  # Delhi coordinates\n",
        "\n",
        "#  Attempt to change a value\n",
        "# coordinates[0] = 29.0  # Error: 'tuple' object does not support item assignment\n",
        "Here, you can trust that coordinates won’t suddenly be altered by another part of your code.\n",
        "\n",
        "# 2. Safe to Use as Dictionary Keys\n",
        "Because tuples are immutable and hashable (if all elements are hashable), they can be used as dictionary keys or in sets — ensuring that the key’s identity won’t change unexpectedly.\n",
        "location_data = {\n",
        "    (28.6139, 77.2090): \"Delhi\",\n",
        "    (19.0760, 72.8777): \"Mumbai\"\n",
        "}\n",
        "If these were lists instead, the keys could change — breaking the dictionary.\n",
        "\n",
        "# 3. Readability and Intent\n",
        "When you choose a tuple instead of a list, you signal to anyone reading the code:\n",
        "\n",
        "“This data is fixed — treat it as constant.”\n",
        "\n",
        "# Example:\n",
        "RGB_RED = (255, 0, 0)  # Clear, fixed definition\n",
        "# 4. Prevents Bugs in Multi-Module Programs\n",
        "In large programs, data may be shared between functions or modules.\n",
        "If you use a list, one function might accidentally alter it, causing unexpected behavior elsewhere.\n",
        "With a tuple, you guarantee that shared data remains unchanged.\n",
        "\n"
      ]
    },
    {
      "cell_type": "markdown",
      "id": "c467d518",
      "metadata": {
        "id": "c467d518"
      },
      "source": [
        "Q8:-What is a hash table, and how does it relate to dictionaries in Python\n",
        "ans:-A hash table is a data structure that stores data in key–value pairs and uses a hash function to determine where each key–value pair should be placed in memory.\n",
        "\n",
        "In Python, dictionaries are built on top of hash tables — the hash table is the engine that makes them so fast.\n",
        "\n",
        "# 1. How a Hash Table Works\n",
        "Hashing the Key\n",
        "\n",
        "The key is passed into a hash function (hash(key) in Python).\n",
        "\n",
        "This produces a hash value (an integer).\n",
        "\n",
        "Mapping to a Slot\n",
        "\n",
        "The hash value is mapped to an index (slot) in an internal array (via modulus operation).\n",
        "\n",
        "Storing the Pair\n",
        "\n",
        "The dictionary stores both the key and its value in that slot.\n",
        "\n",
        "Handling Collisions\n",
        "\n",
        "Sometimes two keys map to the same slot.\n",
        "\n",
        "Python resolves this using open addressing: it finds the next available slot.\n",
        "\n",
        "# 2. How This Relates to Dictionaries\n",
        "# Fast Lookups:\n",
        "Because the hash tells Python exactly where to find a key, searching is average O(1) time.\n",
        "\n",
        "# Fast Insertion & Deletion:\n",
        "Adding or removing items also uses the hash function, so they’re quick.\n",
        "\n",
        "# Key Rules:\n",
        "\n",
        "Dictionary keys must be hashable (immutable types like strings, numbers, tuples without mutable elements).\n",
        "\n",
        "If a key changes after being stored, the hash would be wrong — breaking the lookup.\n",
        "\n",
        "# Example\n",
        "my_dict = {\"name\": \"Vibhu\", \"age\": 20}\n",
        "\n",
        "# Lookup process for \"age\":\n",
        "# 1. hash(\"age\") → some number\n",
        "# 2. Map number to slot\n",
        "# 3. Fetch value 20"
      ]
    },
    {
      "cell_type": "markdown",
      "id": "8a165bef",
      "metadata": {
        "id": "8a165bef"
      },
      "source": [
        "Q9:-Can lists contain different data types in Python\n",
        "ans:-Yes — in Python, lists can contain different data types in the same list.\n",
        "\n",
        "That’s because Python lists are dynamic and heterogeneous — each element is just a reference to an object, and those objects can be of any type.\n",
        "\n",
        "# Example\n",
        "mixed_list = [1, \"hello\", 3.14, True, [1, 2], {\"a\": 1}]\n",
        "print(mixed_list)\n",
        "# Output: [1, 'hello', 3.14, True, [1, 2], {'a': 1}]\n",
        "Here we have:\n",
        "\n",
        "1 → integer\n",
        "\n",
        "\"hello\" → string\n",
        "\n",
        "3.14 → float\n",
        "\n",
        "True → boolean\n",
        "\n",
        "[1, 2] → another list\n",
        "\n",
        "{\"a\": 1} → dictionary\n",
        "\n",
        "# Why This Works\n",
        "Internally, a list just stores references (pointers) to objects in memory, not the actual data itself.\n",
        "\n",
        "Since Python is dynamically typed, it doesn’t require all list elements to share the same type."
      ]
    },
    {
      "cell_type": "markdown",
      "id": "ae466a84",
      "metadata": {
        "id": "ae466a84"
      },
      "source": [
        "Q10:-Explain why strings are immutable in Python\n",
        "ans:-Strings are immutable in Python because once a string object is created, its contents cannot be changed.\n",
        "If you try to modify it, Python actually creates a new string object instead of altering the original.\n",
        "\n",
        "# 1. Why Python Made Strings Immutable\n",
        "# (a) Efficiency with Memory and Performance\n",
        "Python stores strings in memory in a way that allows them to be reused (interned).\n",
        "\n",
        "If strings were mutable, changing one could unintentionally change another variable pointing to the same string in memory.\n",
        "\n",
        "Example:\n",
        "a = \"hello\"\n",
        "b = a\n",
        "a = a + \" world\"\n",
        "print(b)  # still \"hello\"\n",
        "Here, b stays unchanged because a + \" world\" creates a new string.\n",
        "\n",
        "# (b) Hashability for Dictionary Keys & Sets\n",
        "Dictionary keys and set elements must be hashable.\n",
        "\n",
        "Hash values are based on the string’s contents — if contents could change, the hash would change too, breaking dictionary lookups.\n",
        "\n",
        "Example:\n",
        "my_dict = {\"name\": \"Vibhu\"}\n",
        "# Works fine because \"name\" will never change\n",
        "# (c) Safety and Reliability\n",
        "Immutability prevents accidental changes.\n",
        "\n",
        "This is especially important when passing strings between functions — you can be sure the value won’t be altered somewhere else."
      ]
    },
    {
      "cell_type": "markdown",
      "id": "0039d3a2",
      "metadata": {
        "id": "0039d3a2"
      },
      "source": [
        "Q11:-What advantages do dictionaries offer over lists for certain tasks\n",
        "ans:-Dictionaries can be a big advantage over lists when your task involves looking up values by a key rather than by position.\n",
        "\n",
        " # 1. Fast Lookups\n",
        "Dictionary: Uses a hash table → average O(1) time to find a value by key.\n",
        "\n",
        "List: Needs to search through elements → O(n) time if you don’t know the index.\n",
        "\n",
        "Example:\n",
        "# Using a dictionary\n",
        "phonebook = {\"Alice\": \"1234\", \"Bob\": \"5678\"}\n",
        "print(phonebook[\"Bob\"])  # Instant lookup\n",
        "\n",
        "# Using a list of tuples\n",
        "contacts = [(\"Alice\", \"1234\"), (\"Bob\", \"5678\")]\n",
        "# Have to loop through to find Bob → slower for large data\n",
        "# 2. Clearer, More Meaningful Access\n",
        "Keys in a dictionary make code more self-explanatory.\n",
        "\n",
        "Lists rely on numeric indexes, which can be less readable.\n",
        "\n",
        "Example:\n",
        "student = {\"name\": \"Vibhu\", \"age\": 20}\n",
        "# Easier to understand than:\n",
        "student_list = [\"Vibhu\", 20]  # Which index is age?\n",
        "# 3. No Need to Remember Index Positions\n",
        "In a list, you must know the position of data.\n",
        "\n",
        "In a dictionary, you just use the key you remember.\n",
        "\n",
        "# 4. Flexible Keys\n",
        "Dictionaries let you use strings, numbers, or tuples (hashable types) as keys.\n",
        "\n",
        "Lists can only be indexed with numbers or slices.\n",
        "\n",
        "# 5. Avoids Duplicate Keys\n",
        "In a dictionary, keys are unique → prevents accidental duplicate entries for the same identifier.\n",
        "\n",
        "Lists can have multiple identical elements without warning."
      ]
    },
    {
      "cell_type": "markdown",
      "id": "07e8a87f",
      "metadata": {
        "id": "07e8a87f"
      },
      "source": [
        "Q12:-Describe a scenario where using a tuple would be preferable over a list\n",
        "ans:-A tuple is preferable over a list when you need fixed, unchangeable data — something that should not be accidentally modified during the program’s execution.\n",
        "\n",
        "# Example Scenario: Geographic Coordinates\n",
        "Imagine you’re building a travel app, and you store the latitude and longitude of cities.\n",
        "# Using a tuple to store coordinates\n",
        "delhi_coordinates = (28.6139, 77.2090)  # Immutable\n",
        "# Why a tuple here?\n",
        "# Data Integrity – Coordinates should never change once set for a location.\n",
        "\n",
        "A tuple’s immutability ensures no part of the code can alter the values by mistake.\n",
        "\n",
        "# Hashable – Tuples can be used as dictionary keys (lists cannot), so you can easily map coordinates to city names:\n",
        "locations = {\n",
        "    (28.6139, 77.2090): \"Delhi\",\n",
        "    (19.0760, 72.8777): \"Mumbai\"\n",
        "}\n",
        "# Performance – Tuples are slightly faster and use less memory than lists, which matters if you’re storing thousands of coordinates."
      ]
    },
    {
      "cell_type": "markdown",
      "id": "840798bb",
      "metadata": {
        "id": "840798bb"
      },
      "source": [
        "Q13:- How do sets handle duplicate values in Python\n",
        "ans:-In Python, sets automatically remove duplicate values because they are designed to store only unique elements.\n",
        "\n",
        "# 1. How It Works Internally\n",
        "A set is implemented using a hash table (like dictionaries, but only keys are stored — no values).\n",
        "\n",
        "When you add an element:\n",
        "\n",
        "Python computes its hash value.\n",
        "\n",
        "Checks if an element with the same hash already exists in the set.\n",
        "\n",
        "If it exists → ignored (no duplication added).\n",
        "\n",
        "If it doesn’t exist → stored in the set.\n",
        "\n",
        "# 2. Example\n",
        "my_set = {1, 2, 2, 3, 3, 3}\n",
        "print(my_set)  # {1, 2, 3}\n",
        "Even though 2 and 3 were added multiple times, the set keeps only one of each.\n",
        "\n",
        "# 3. Adding Duplicates Later\n",
        "my_set = {1, 2, 3}\n",
        "my_set.add(2)  # Duplicate\n",
        "print(my_set)  # {1, 2, 3}\n",
        "The .add() method silently ignores duplicates.\n",
        "\n",
        "# 4. Why This Is Useful\n",
        "Ensures data uniqueness without extra checks.\n",
        "\n",
        "Makes membership testing fast (O(1) time).\n",
        "\n",
        "Simplifies operations like removing duplicates from a list:\n",
        "nums = [1, 2, 2, 3, 4, 4]\n",
        "unique_nums = set(nums)\n",
        "print(unique_nums)  # {1, 2, 3, 4}\n"
      ]
    },
    {
      "cell_type": "markdown",
      "id": "4d6b82af",
      "metadata": {
        "id": "4d6b82af"
      },
      "source": [
        "Q14:-How does the “in” keyword work differently for lists and dictionaries\n",
        "ans:-The in keyword works differently for lists and dictionaries because it checks different things in each case.\n",
        "\n",
        "# 1. For Lists\n",
        "in checks if a value exists anywhere in the list.\n",
        "\n",
        "This requires scanning through the list from start to end (linear search, O(n) time).\n",
        "\n",
        "# Example:\n",
        "fruits = [\"apple\", \"banana\", \"cherry\"]\n",
        "print(\"banana\" in fruits)  #  True (value exists)\n",
        "print(2 in fruits)         #  False (value not found)\n",
        "Process:\n",
        "\n",
        "Start at index 0 → compare element with the target.\n",
        "\n",
        "Move to next index until found or list ends.\n",
        "\n",
        "# 2. For Dictionaries\n",
        "in checks only the keys — not the values.\n",
        "\n",
        "Since dictionaries use a hash table, this check is O(1) on average.\n",
        "\n",
        "# Example:\n",
        "person = {\"name\": \"Vibhu\", \"age\": 20}\n",
        "print(\"name\" in person)       #  True (key exists)\n",
        "print(\"Vibhu\" in person)      #  False (values are ignored)\n",
        "print(\"Vibhu\" in person.values())  #  True (checks values explicitly)\n",
        "# Process:\n",
        "\n",
        "1.Hash the key.\n",
        "\n",
        "2.Jump directly to the slot in the hash table to see if it exists."
      ]
    },
    {
      "cell_type": "markdown",
      "id": "45499552",
      "metadata": {
        "id": "45499552"
      },
      "source": [
        "Q15:-Can you modify the elements of a tuple? Explain why or why not\n",
        "ans:-No — you cannot modify the elements of a tuple directly because tuples are immutable in Python.\n",
        "Once a tuple is created, its structure and element references cannot be changed.\n",
        "\n",
        "# 1. What Immutability Means for Tuples\n",
        "You cannot:\n",
        "\n",
        "Change an element’s value\n",
        "\n",
        "Add new elements\n",
        "\n",
        "Remove elements\n",
        "\n",
        "# Example:\n",
        "t = (1, 2, 3)\n",
        "# t[0] = 99  #  TypeError: 'tuple' object does not support item assignment\n",
        "# 2. Why Tuples Are Immutable\n",
        "Data integrity: Protects fixed data from accidental changes.\n",
        "\n",
        "Hashability: Tuples (with only immutable elements) can be used as dictionary keys and in sets.\n",
        "\n",
        "Performance: Slightly faster and smaller in memory than lists.\n",
        "\n",
        "# 3. The One Loophole\n",
        "If a tuple contains mutable objects (like a list), you can modify the mutable object inside — but you still can’t change the tuple’s own structure.\n",
        "\n",
        "# Example:\n",
        "t = (1, [2, 3])\n",
        "t[1].append(4)  #  This works\n",
        "print(t)        # (1, [2, 3, 4])\n",
        "Here:\n",
        "\n",
        "The tuple still points to the same list object.\n",
        "\n",
        "The list itself is mutable, so its contents can change.\n",
        "\n"
      ]
    },
    {
      "cell_type": "markdown",
      "id": "0a39c8f9",
      "metadata": {
        "id": "0a39c8f9"
      },
      "source": [
        "Q16:-What is a nested dictionary, and give an example of its use case\n",
        "ans:-A nested dictionary in Python is a dictionary inside another dictionary — meaning each key in the outer dictionary can store another dictionary as its value.\n",
        "\n",
        "It’s a way to store hierarchical or structured data.\n",
        "\n",
        "# 1. Structure\n",
        "nested_dict = {\n",
        "    \"outer_key1\": {\"inner_key1\": value1, \"inner_key2\": value2},\n",
        "    \"outer_key2\": {\"inner_key3\": value3, \"inner_key4\": value4}\n",
        "}\n",
        "# 2. Example Use Case\n",
        "Storing Student Data in a School System\n",
        "students = {\n",
        "    \"101\": {\"name\": \"Vibhu\", \"age\": 20, \"grades\": {\"math\": 85, \"science\": 90}},\n",
        "    \"102\": {\"name\": \"Ananya\", \"age\": 21, \"grades\": {\"math\": 92, \"science\": 88}}\n",
        "}\n",
        "\n",
        "# Accessing data\n",
        "print(students[\"101\"][\"name\"])          # Vibhu\n",
        "print(students[\"101\"][\"grades\"][\"math\"])  # 85\n",
        "# Why useful here:\n",
        "\n",
        "Groups related data together in a logical hierarchy.\n",
        "\n",
        "Easy to store complex relationships (like a student having multiple subjects and grades).\n",
        "\n",
        "Keeps data structured without needing multiple separate lists or variables."
      ]
    },
    {
      "cell_type": "markdown",
      "id": "26acf568",
      "metadata": {
        "id": "26acf568"
      },
      "source": [
        "Q17:-Describe the time complexity of accessing elements in a dictionary\n",
        "ans:-Accessing elements in a Python dictionary is generally O(1) (constant time) on average, thanks to its hash table implementation — but there are some important details.\n",
        "\n",
        "# 1. Average Case (O(1))\n",
        "When you do:\n",
        "value = my_dict[key]\n",
        "Python:\n",
        "\n",
        "Runs hash(key) → gives an integer.\n",
        "\n",
        "Maps the hash to a slot in an internal array.\n",
        "\n",
        "Checks if the key matches and returns the value.\n",
        "\n",
        "Because this is a direct jump to the slot (not scanning the whole dict), it’s O(1) time.\n",
        "\n",
        "# 2. Worst Case (O(n))\n",
        "Rare, but happens if:\n",
        "\n",
        "Many keys cause hash collisions.\n",
        "\n",
        "The dictionary has to check multiple slots (open addressing).\n",
        "\n",
        "Or a hash attack is crafted intentionally.\n",
        "\n",
        "In this case, lookup might degrade to O(n), where n is the number of items.\n",
        "\n",
        "# 3. Why It’s So Fast\n",
        "Uses hashing rather than sequential search.\n",
        "\n",
        "Doesn’t depend on the size of the dictionary for average-case lookups.\n",
        "\n",
        "This efficiency also applies to:\n",
        "\n",
        "Checking key existence (key in dict)\n",
        "\n",
        "Insertion (dict[key] = value)\n",
        "\n",
        "Deletion (del dict[key])\n",
        "\n"
      ]
    },
    {
      "cell_type": "markdown",
      "id": "6fb9a93b",
      "metadata": {
        "id": "6fb9a93b"
      },
      "source": [
        "Q18:-In what situations are lists preferred over dictionaries\n",
        "ans:-Lists are preferred over dictionaries when:\n",
        "\n",
        "# 1. You Care About Order and Position\n",
        "Lists maintain elements in a specific sequence, and you can access them by index.\n",
        "\n",
        "Dictionaries (Python 3.7+) also preserve insertion order, but they are still key–value mappings, not position-based sequences.\n",
        "\n",
        "# Example:\n",
        "fruits = [\"apple\", \"banana\", \"cherry\"]\n",
        "print(fruits[0])  # \"apple\"\n",
        "# 2. You Don’t Need Key–Value Pairs\n",
        "If your data is just a collection of items without unique identifiers, a list is simpler and more memory-efficient.\n",
        "\n",
        "# 3. You Have Duplicate Values\n",
        "Lists allow duplicates naturally, while dictionaries force unique keys.\n",
        "numbers = [1, 2, 2, 3]  # ✅ Allowed\n",
        "# 4. You Need to Sort or Rearrange Data Easily\n",
        "Lists have rich built-in methods for sorting, reversing, slicing, and rearranging elements.\n",
        "nums = [3, 1, 2]\n",
        "nums.sort()\n",
        "print(nums)  # [1, 2, 3]\n",
        "# 5. The Dataset Is Small or Sequential\n",
        "For small datasets, list lookups are simple and fast enough — no need for the overhead of a hash table.\n",
        "\n",
        "Great for ordered sequences like:\n",
        "\n",
        "To-do lists\n",
        "\n",
        "Steps in a process\n",
        "\n",
        "Playlist of songs\n",
        "\n"
      ]
    },
    {
      "cell_type": "markdown",
      "id": "29ec3b35",
      "metadata": {
        "id": "29ec3b35"
      },
      "source": [
        "Q19:-Why are dictionaries considered unordered, and how does that affect data retrieval\n",
        "ans:-Dictionaries are considered unordered because, conceptually, they store data as key–value pairs in a hash table, where the position of each pair in memory depends on the hash value of the key — not the order you insert them in.\n",
        "\n",
        "# 1. The Original Meaning of “Unordered”\n",
        "In Python versions before 3.7, dictionaries did not guarantee that items would be returned in the same order they were inserted.\n",
        "\n",
        "The internal storage (hash table) placed items based on hash values, so iteration order could seem random.\n",
        "\n",
        "# 2. Python 3.7+ Change\n",
        "Starting in Python 3.7 (and officially in 3.8), dictionaries preserve insertion order — but this is considered an implementation detail, not the primary design purpose.\n",
        "\n",
        "Even now, ordering is not used for lookup — dictionary lookups are always based on key hashes, not position.\n",
        "\n",
        "# 3. How It Affects Data Retrieval\n",
        "Lookup by key is unaffected — dictionaries retrieve values in O(1) time by hashing the key and jumping directly to its slot.\n",
        "\n",
        "Iteration order is predictable (insertion order) in modern Python, but shouldn’t be relied upon if you care about portability to older versions or other languages.\n",
        "\n",
        "If you need guaranteed ordering as a core feature, you should use:\n",
        "\n",
        "collections.OrderedDict (before Python 3.7)\n",
        "\n",
        "Or sort keys explicitly during retrieval.\n",
        "\n",
        "Example\n",
        "# In Python 3.7+, insertion order preserved\n",
        "data = {\"a\": 1, \"b\": 2, \"c\": 3}\n",
        "for k, v in data.items():\n",
        "    print(k, v)\n",
        "# Output: a 1, b 2, c 3 (in insertion order)\n",
        "\n",
        "# Retrieval by key is always fast:\n",
        "print(data[\"b\"])  # 2\n"
      ]
    },
    {
      "cell_type": "markdown",
      "id": "88bb4cf8",
      "metadata": {
        "id": "88bb4cf8"
      },
      "source": [
        "Q20:-Explain the difference between a list and a dictionary in terms of data retrieval.\n",
        "ans:-The key difference between a list and a dictionary in terms of data retrieval is how you access the data and how fast it is.\n",
        "\n",
        "# 1. Retrieval Method\n",
        "Data Structure\tHow You Retrieve\tExample\n",
        "List\tBy position (index)\tmy_list[0] → gets the first element\n",
        "Dictionary\tBy key (a unique identifier)\tmy_dict[\"name\"] → gets the value for \"name\"\n",
        "\n",
        "# 2. Speed (Time Complexity)\n",
        "List → Retrieval by index is O(1) (very fast).\n",
        "But searching for a specific value without knowing its index takes O(n) (linear time).\n",
        "\n",
        "Dictionary → Retrieval by key is O(1) on average because it uses hashing (direct lookup, no scanning).\n",
        "\n",
        "# 3. Example\n",
        "# List\n",
        "fruits = [\"apple\", \"banana\", \"cherry\"]\n",
        "print(fruits[1])  # banana (by index)\n",
        "# If you want \"cherry\", but don’t know its index → must search\n",
        "\n",
        "# Dictionary\n",
        "prices = {\"apple\": 100, \"banana\": 40, \"cherry\": 60}\n",
        "print(prices[\"cherry\"])  # 60 (by key, instant)\n",
        "# 4. When This Matters\n",
        "Use a list when:\n",
        "\n",
        "The position of the element is meaningful.\n",
        "\n",
        "You want to store an ordered sequence.\n",
        "\n",
        "Use a dictionary when:\n",
        "\n",
        "You need fast lookups by a label/identifier.\n",
        "\n",
        "Each item naturally has a unique key."
      ]
    },
    {
      "cell_type": "markdown",
      "id": "038caa33",
      "metadata": {
        "id": "038caa33"
      },
      "source": [
        "PRACTICAL QUESTIONS"
      ]
    },
    {
      "cell_type": "code",
      "execution_count": null,
      "id": "af51bdb3",
      "metadata": {
        "id": "af51bdb3",
        "outputId": "658a261b-b32f-4cd6-9ece-f40edbae87a9"
      },
      "outputs": [
        {
          "name": "stdout",
          "output_type": "stream",
          "text": [
            "Vibhu\n"
          ]
        }
      ],
      "source": [
        "# Q1:-Write a code to create a string with your name and print it\n",
        "# ans:-\n",
        "# Create a string with my name\n",
        "name = \"Vibhu\"\n",
        "\n",
        "# Print the string\n",
        "print(name)\n",
        "\n"
      ]
    },
    {
      "cell_type": "code",
      "execution_count": null,
      "id": "85484276",
      "metadata": {
        "id": "85484276",
        "outputId": "32994862-ff2b-4001-8ede-3f0bbf19837a"
      },
      "outputs": [
        {
          "name": "stdout",
          "output_type": "stream",
          "text": [
            "11\n"
          ]
        }
      ],
      "source": [
        "# 2.Write a code to find the length of the string \"Hello World\"\n",
        "#ans:-\n",
        "# Create the string\n",
        "text = \"Hello World\"\n",
        "\n",
        "# Find the length using len()\n",
        "length = len(text)\n",
        "\n",
        "# Print the length\n",
        "print(length)\n"
      ]
    },
    {
      "cell_type": "code",
      "execution_count": null,
      "id": "13a47861",
      "metadata": {
        "id": "13a47861",
        "outputId": "a6185e1d-017c-4f14-c1ca-1eb45ad2beb5"
      },
      "outputs": [
        {
          "name": "stdout",
          "output_type": "stream",
          "text": [
            "Pyt\n"
          ]
        }
      ],
      "source": [
        "#3.Write a code to slice the first 3 characters from the string \"Python Programming\"\n",
        "#ans:-# Create the string\n",
        "text = \"Python Programming\"\n",
        "\n",
        "# Slice the first 3 characters\n",
        "first_three = text[:3]\n",
        "\n",
        "# Print the result\n",
        "print(first_three)\n",
        "\n"
      ]
    },
    {
      "cell_type": "code",
      "execution_count": null,
      "id": "22fdb6c2",
      "metadata": {
        "id": "22fdb6c2",
        "outputId": "834ff746-8e1b-4425-8007-7de9f27a832a"
      },
      "outputs": [
        {
          "name": "stdout",
          "output_type": "stream",
          "text": [
            "HELLO\n"
          ]
        }
      ],
      "source": [
        "#4.Write a code to convert the string \"hello\" to uppercase\n",
        "#ans:-# Create the string\n",
        "text = \"hello\"\n",
        "\n",
        "# Convert to uppercase\n",
        "upper_text = text.upper()\n",
        "\n",
        "# Print the result\n",
        "print(upper_text)\n"
      ]
    },
    {
      "cell_type": "code",
      "execution_count": null,
      "id": "db0d6311",
      "metadata": {
        "id": "db0d6311",
        "outputId": "fd966e2d-04f8-4776-ae45-a97ef09f1788"
      },
      "outputs": [
        {
          "name": "stdout",
          "output_type": "stream",
          "text": [
            "I like orange\n"
          ]
        }
      ],
      "source": [
        "#5.Write a code to replace the word \"apple\" with \"orange\" in the string \"I like apple\"\n",
        "#ans:-# Create the string\n",
        "text = \"I like apple\"\n",
        "\n",
        "# Replace 'apple' with 'orange'\n",
        "new_text = text.replace(\"apple\", \"orange\")\n",
        "\n",
        "# Print the result\n",
        "print(new_text)\n"
      ]
    },
    {
      "cell_type": "code",
      "execution_count": null,
      "id": "23b2060f",
      "metadata": {
        "id": "23b2060f",
        "outputId": "e20022df-bcf1-4eb9-c5c0-3c9abaa18765"
      },
      "outputs": [
        {
          "name": "stdout",
          "output_type": "stream",
          "text": [
            "[1, 2, 3, 4, 5]\n"
          ]
        }
      ],
      "source": [
        "#6.Write a code to create a list with numbers 1 to 5 and print it\n",
        "#ans:-# Create the list\n",
        "numbers = [1, 2, 3, 4, 5]\n",
        "\n",
        "# Print the list\n",
        "print(numbers)\n"
      ]
    },
    {
      "cell_type": "code",
      "execution_count": null,
      "id": "a72ba265",
      "metadata": {
        "id": "a72ba265",
        "outputId": "c89a6185-4246-41f0-8505-225ec2c3ef18"
      },
      "outputs": [
        {
          "name": "stdout",
          "output_type": "stream",
          "text": [
            "[1, 2, 3, 4, 10]\n"
          ]
        }
      ],
      "source": [
        "#7.Write a code to append the number 10 to the list [1, 2, 3, 4]\n",
        "#ans:-# Create the list\n",
        "numbers = [1, 2, 3, 4]\n",
        "\n",
        "# Append 10 to the list\n",
        "numbers.append(10)\n",
        "\n",
        "# Print the updated list\n",
        "print(numbers)\n"
      ]
    },
    {
      "cell_type": "code",
      "execution_count": null,
      "id": "045fdb0f",
      "metadata": {
        "id": "045fdb0f",
        "outputId": "ce0475ec-61b7-4207-91c4-1b91526badff"
      },
      "outputs": [
        {
          "name": "stdout",
          "output_type": "stream",
          "text": [
            "[1, 2, 4, 5]\n"
          ]
        }
      ],
      "source": [
        "#8.Write a code to remove the number 3 from the list [1, 2, 3, 4, 5]\n",
        "#ans:-# Create the list\n",
        "numbers = [1, 2, 3, 4, 5]\n",
        "\n",
        "# Remove the number 3\n",
        "numbers.remove(3)\n",
        "\n",
        "# Print the updated list\n",
        "print(numbers)\n"
      ]
    },
    {
      "cell_type": "code",
      "execution_count": null,
      "id": "5213e7b9",
      "metadata": {
        "id": "5213e7b9",
        "outputId": "8f1f8690-b6e6-432d-9061-de8180ef0423"
      },
      "outputs": [
        {
          "name": "stdout",
          "output_type": "stream",
          "text": [
            "b\n"
          ]
        }
      ],
      "source": [
        "#9. Write a code to access the second element in the list ['a', 'b', 'c', 'd']\n",
        "#ans:-# Create the list\n",
        "letters = ['a', 'b', 'c', 'd']\n",
        "\n",
        "# Access the second element (index 1)\n",
        "second_element = letters[1]\n",
        "\n",
        "# Print the result\n",
        "print(second_element)\n",
        "\n"
      ]
    },
    {
      "cell_type": "code",
      "execution_count": null,
      "id": "46c267ba",
      "metadata": {
        "id": "46c267ba",
        "outputId": "45111ba7-2734-4719-fe2b-fa65a228256d"
      },
      "outputs": [
        {
          "name": "stdout",
          "output_type": "stream",
          "text": [
            "[50, 40, 30, 20, 10]\n"
          ]
        }
      ],
      "source": [
        "#10:-Write a code to reverse the list [10, 20, 30, 40, 50].\n",
        "#ans:-# Create the list\n",
        "numbers = [10, 20, 30, 40, 50]\n",
        "\n",
        "# Reverse the list\n",
        "numbers.reverse()\n",
        "\n",
        "# Print the reversed list\n",
        "print(numbers)\n"
      ]
    },
    {
      "cell_type": "code",
      "execution_count": null,
      "id": "c52e042d",
      "metadata": {
        "id": "c52e042d",
        "outputId": "0b5ff90d-f364-41a4-b98b-0c9666efb997"
      },
      "outputs": [
        {
          "name": "stdout",
          "output_type": "stream",
          "text": [
            "(100, 200, 300)\n"
          ]
        }
      ],
      "source": [
        "#11:-. Write a code to create a tuple with the elements 100, 200, 300 and print it.\n",
        "#ans:-\n",
        "# Create the tuple\n",
        "numbers = (100, 200, 300)\n",
        "\n",
        "# Print the tuple\n",
        "print(numbers)\n"
      ]
    },
    {
      "cell_type": "code",
      "execution_count": null,
      "id": "17852245",
      "metadata": {
        "id": "17852245",
        "outputId": "0a552a46-303c-408b-c9e1-9c70d430facc"
      },
      "outputs": [
        {
          "name": "stdout",
          "output_type": "stream",
          "text": [
            "blue\n"
          ]
        }
      ],
      "source": [
        "#12:- Write a code to access the second-to-last element of the tuple ('red', 'green', 'blue', 'yellow').\n",
        "#ans:-# Create the tuple\n",
        "colors = ('red', 'green', 'blue', 'yellow')\n",
        "\n",
        "# Access the second-to-last element (index -2)\n",
        "second_last = colors[-2]\n",
        "\n",
        "# Print the result\n",
        "print(second_last)\n",
        "\n"
      ]
    },
    {
      "cell_type": "code",
      "execution_count": null,
      "id": "f20836d9",
      "metadata": {
        "id": "f20836d9",
        "outputId": "a3fee3ba-364a-4b56-bd56-621150d69de6"
      },
      "outputs": [
        {
          "name": "stdout",
          "output_type": "stream",
          "text": [
            "5\n"
          ]
        }
      ],
      "source": [
        "#13. Write a code to find the minimum number in the tuple (10, 20, 5, 15).\n",
        "#ans:-# Create the tuple\n",
        "numbers = (10, 20, 5, 15)\n",
        "\n",
        "# Find the minimum value\n",
        "minimum_value = min(numbers)\n",
        "\n",
        "# Print the result\n",
        "print(minimum_value)\n"
      ]
    },
    {
      "cell_type": "code",
      "execution_count": null,
      "id": "3317e90f",
      "metadata": {
        "id": "3317e90f",
        "outputId": "1e718efd-7762-4ca4-98d0-61f515f41821"
      },
      "outputs": [
        {
          "name": "stdout",
          "output_type": "stream",
          "text": [
            "1\n"
          ]
        }
      ],
      "source": [
        "#14:- Write a code to find the index of the element \"cat\" in the tuple ('dog', 'cat', 'rabbit').\n",
        "#ans:-# Create the tuple\n",
        "animals = ('dog', 'cat', 'rabbit')\n",
        "\n",
        "# Find the index of \"cat\"\n",
        "cat_index = animals.index(\"cat\")\n",
        "\n",
        "# Print the result\n",
        "print(cat_index)\n"
      ]
    },
    {
      "cell_type": "code",
      "execution_count": null,
      "id": "84c65d9c",
      "metadata": {
        "id": "84c65d9c",
        "outputId": "c063bb01-6a02-4cf6-ca0e-7ffe41c493a8"
      },
      "outputs": [
        {
          "name": "stdout",
          "output_type": "stream",
          "text": [
            "Kiwi is not in the tuple.\n"
          ]
        }
      ],
      "source": [
        "#15:- Write a code to create a tuple containing three different fruits and check if \"kiwi\" is in it.\n",
        "#ans:-# Create the tuple\n",
        "fruits = (\"apple\", \"banana\", \"mango\")\n",
        "\n",
        "# Check if \"kiwi\" is in the tuple\n",
        "if \"kiwi\" in fruits:\n",
        "    print(\"Kiwi is in the tuple.\")\n",
        "else:\n",
        "    print(\"Kiwi is not in the tuple.\")\n"
      ]
    },
    {
      "cell_type": "code",
      "execution_count": null,
      "id": "98e8d814",
      "metadata": {
        "id": "98e8d814",
        "outputId": "b0d87971-23ef-4dc5-edbe-afdf47702602"
      },
      "outputs": [
        {
          "name": "stdout",
          "output_type": "stream",
          "text": [
            "{'b', 'c', 'a'}\n"
          ]
        }
      ],
      "source": [
        "#16:-. Write a code to create a set with the elements 'a', 'b', 'c' and print it.\n",
        "#ans:-# Create the set\n",
        "letters = {'a', 'b', 'c'}\n",
        "\n",
        "# Print the set\n",
        "print(letters)\n"
      ]
    },
    {
      "cell_type": "code",
      "execution_count": null,
      "id": "aeafcea2",
      "metadata": {
        "id": "aeafcea2",
        "outputId": "4271ecac-c77f-4c00-c5a7-d5f75d1b1913"
      },
      "outputs": [
        {
          "name": "stdout",
          "output_type": "stream",
          "text": [
            "set()\n"
          ]
        }
      ],
      "source": [
        "#17:-Write a code to clear all elements from the set {1, 2, 3, 4, 5}.\n",
        "#ans:-# Create the set\n",
        "numbers = {1, 2, 3, 4, 5}\n",
        "\n",
        "# Clear all elements\n",
        "numbers.clear()\n",
        "\n",
        "# Print the set\n",
        "print(numbers)\n"
      ]
    },
    {
      "cell_type": "code",
      "execution_count": null,
      "id": "19cb01a1",
      "metadata": {
        "id": "19cb01a1",
        "outputId": "57752ed1-c6d0-40cc-f63c-c67fbbf37698"
      },
      "outputs": [
        {
          "name": "stdout",
          "output_type": "stream",
          "text": [
            "{1, 2, 3}\n"
          ]
        }
      ],
      "source": [
        "#18:- Write a code to remove the element 4 from the set {1, 2, 3, 4}.\n",
        "#ans:-# Create the set\n",
        "numbers = {1, 2, 3, 4}\n",
        "\n",
        "# Remove the element 4\n",
        "numbers.remove(4)\n",
        "\n",
        "# Print the updated set\n",
        "print(numbers)\n"
      ]
    },
    {
      "cell_type": "code",
      "execution_count": null,
      "id": "fec3f349",
      "metadata": {
        "id": "fec3f349",
        "outputId": "9fcc3f6c-cdf5-4726-984d-166df891b603"
      },
      "outputs": [
        {
          "name": "stdout",
          "output_type": "stream",
          "text": [
            "{1, 2, 3, 4, 5}\n"
          ]
        }
      ],
      "source": [
        "#19:-Write a code to find the union of two sets {1, 2, 3} and {3, 4, 5}\n",
        "#ans:-# Create the sets\n",
        "set1 = {1, 2, 3}\n",
        "set2 = {3, 4, 5}\n",
        "\n",
        "# Find the union\n",
        "union_set = set1.union(set2)\n",
        "\n",
        "# Print the result\n",
        "print(union_set)\n"
      ]
    },
    {
      "cell_type": "code",
      "execution_count": null,
      "id": "c227b69c",
      "metadata": {
        "id": "c227b69c",
        "outputId": "5be13428-cd5d-427b-9f53-169284e45c7b"
      },
      "outputs": [
        {
          "name": "stdout",
          "output_type": "stream",
          "text": [
            "{2, 3}\n"
          ]
        }
      ],
      "source": [
        "#20:-Write a code to find the intersection of two sets {1, 2, 3} and {2, 3, 4}.\n",
        "#ans:-# Create the sets\n",
        "set1 = {1, 2, 3}\n",
        "set2 = {2, 3, 4}\n",
        "\n",
        "# Find the intersection\n",
        "intersection_set = set1.intersection(set2)\n",
        "\n",
        "# Print the result\n",
        "print(intersection_set)\n"
      ]
    },
    {
      "cell_type": "code",
      "execution_count": null,
      "id": "25d58e8a",
      "metadata": {
        "id": "25d58e8a",
        "outputId": "7e6999a9-e826-4861-a3b7-a969eaf61474"
      },
      "outputs": [
        {
          "name": "stdout",
          "output_type": "stream",
          "text": [
            "{'name': 'Vibhu', 'age': 20, 'city': 'Delhi'}\n"
          ]
        }
      ],
      "source": [
        "#21:- Write a code to create a dictionary with the keys \"name\", \"age\", and \"city\", and print it.\n",
        "#ans:-# Create the dictionary\n",
        "person = {\n",
        "    \"name\": \"Vibhu\",\n",
        "    \"age\": 20,\n",
        "    \"city\": \"Delhi\"\n",
        "}\n",
        "\n",
        "# Print the dictionary\n",
        "print(person)\n"
      ]
    },
    {
      "cell_type": "code",
      "execution_count": null,
      "id": "75674161",
      "metadata": {
        "id": "75674161",
        "outputId": "c2471136-327c-4948-cba1-bcf4190f023f"
      },
      "outputs": [
        {
          "name": "stdout",
          "output_type": "stream",
          "text": [
            "{'name': 'John', 'age': 25, 'country': 'USA'}\n"
          ]
        }
      ],
      "source": [
        "#22:-Write a code to add a new key-value pair \"country\": \"USA\" to the dictionary {'name': 'John', 'age': 25}.\n",
        "#ans:-# Create the dictionary\n",
        "person = {'name': 'John', 'age': 25}\n",
        "\n",
        "# Add new key-value pair\n",
        "person['country'] = 'USA'\n",
        "\n",
        "# Print the updated dictionary\n",
        "print(person)\n"
      ]
    },
    {
      "cell_type": "code",
      "execution_count": null,
      "id": "a5927999",
      "metadata": {
        "id": "a5927999",
        "outputId": "cc788078-6045-475a-c2f3-0b7766468443"
      },
      "outputs": [
        {
          "name": "stdout",
          "output_type": "stream",
          "text": [
            "Alice\n"
          ]
        }
      ],
      "source": [
        "#23:-Write a code to access the value associated with the key \"name\" in the dictionary {'name': 'Alice', 'age': 30}.\n",
        "#ans:-# Create the dictionary\n",
        "person = {'name': 'Alice', 'age': 30}\n",
        "\n",
        "# Access the value for key \"name\"\n",
        "name_value = person['name']\n",
        "\n",
        "# Print the result\n",
        "print(name_value)\n"
      ]
    },
    {
      "cell_type": "code",
      "execution_count": null,
      "id": "e0786b19",
      "metadata": {
        "id": "e0786b19",
        "outputId": "c020a09b-8f4f-4c78-9235-8550de708b2e"
      },
      "outputs": [
        {
          "name": "stdout",
          "output_type": "stream",
          "text": [
            "{'name': 'Bob', 'city': 'New York'}\n"
          ]
        }
      ],
      "source": [
        "#24:-Write a code to remove the key \"age\" from the dictionary {'name': 'Bob', 'age': 22, 'city': 'New York'}.\n",
        "#ans:-# Create the dictionary\n",
        "person = {'name': 'Bob', 'age': 22, 'city': 'New York'}\n",
        "\n",
        "# Remove the key \"age\"\n",
        "del person['age']\n",
        "\n",
        "# Print the updated dictionary\n",
        "print(person)\n"
      ]
    },
    {
      "cell_type": "code",
      "execution_count": null,
      "id": "8094fe87",
      "metadata": {
        "id": "8094fe87",
        "outputId": "1695642f-c923-430a-e56f-50be88ff0952"
      },
      "outputs": [
        {
          "name": "stdout",
          "output_type": "stream",
          "text": [
            "Key 'city' exists in the dictionary.\n"
          ]
        }
      ],
      "source": [
        "#25:-Write a code to check if the key \"city\" exists in the dictionary {'name': 'Alice', 'city': 'Paris'}.\n",
        "#ans:-# Create the dictionary\n",
        "person = {'name': 'Alice', 'city': 'Paris'}\n",
        "\n",
        "# Check if \"city\" exists\n",
        "if 'city' in person:\n",
        "    print(\"Key 'city' exists in the dictionary.\")\n",
        "else:\n",
        "    print(\"Key 'city' does not exist in the dictionary.\")\n"
      ]
    },
    {
      "cell_type": "code",
      "execution_count": null,
      "id": "deabe91a",
      "metadata": {
        "id": "deabe91a",
        "outputId": "83005ac1-d0b7-44b6-8bba-ea4eac48904f"
      },
      "outputs": [
        {
          "name": "stdout",
          "output_type": "stream",
          "text": [
            "List: [1, 2, 3, 4, 5]\n",
            "Tuple: ('apple', 'banana', 'cherry')\n",
            "Dictionary: {'name': 'Vibhu', 'age': 20, 'city': 'Delhi'}\n"
          ]
        }
      ],
      "source": [
        "#26:- Write a code to create a list, a tuple, and a dictionary, and print them all.\n",
        "#ans:-# Create a list\n",
        "my_list = [1, 2, 3, 4, 5]\n",
        "\n",
        "# Create a tuple\n",
        "my_tuple = ('apple', 'banana', 'cherry')\n",
        "\n",
        "# Create a dictionary\n",
        "my_dict = {\n",
        "    'name': 'Vibhu',\n",
        "    'age': 20,\n",
        "    'city': 'Delhi'\n",
        "}\n",
        "\n",
        "# Print all\n",
        "print(\"List:\", my_list)\n",
        "print(\"Tuple:\", my_tuple)\n",
        "print(\"Dictionary:\", my_dict)\n"
      ]
    },
    {
      "cell_type": "code",
      "execution_count": null,
      "id": "ae593b28",
      "metadata": {
        "id": "ae593b28",
        "outputId": "69809f45-49f3-4d67-8e1c-bfc382dd9670"
      },
      "outputs": [
        {
          "name": "stdout",
          "output_type": "stream",
          "text": [
            "[10, 16, 51, 60, 85]\n"
          ]
        }
      ],
      "source": [
        "#27:-Write a code to create a list of 5 random numbers between 1 and 100, sort it in ascending order, and print the\n",
        "#result.(replaced)\n",
        "#ans:-\n",
        "import random\n",
        "\n",
        "# Create a list of 5 random numbers between 1 and 100\n",
        "numbers = [random.randint(1, 100) for _ in range(5)]\n",
        "\n",
        "# Sort the list in ascending order\n",
        "numbers.sort()\n",
        "\n",
        "# Print the sorted list\n",
        "print(numbers)\n"
      ]
    },
    {
      "cell_type": "code",
      "execution_count": null,
      "id": "dd266a8d",
      "metadata": {
        "id": "dd266a8d",
        "outputId": "be0ec2c0-f7ee-47b6-895c-f14c82247843"
      },
      "outputs": [
        {
          "name": "stdout",
          "output_type": "stream",
          "text": [
            "date\n"
          ]
        }
      ],
      "source": [
        "#28:- Write a code to create a list with strings and print the element at the third index.\n",
        "#ans:-\n",
        "# Create a list of strings\n",
        "fruits = [\"apple\", \"banana\", \"cherry\", \"date\", \"mango\"]\n",
        "\n",
        "# Print the element at the third index (indexing starts from 0)\n",
        "print(fruits[3])\n",
        "\n"
      ]
    },
    {
      "cell_type": "code",
      "execution_count": null,
      "id": "4972cfba",
      "metadata": {
        "id": "4972cfba",
        "outputId": "f503a16d-19ad-486c-9632-6992b857a990"
      },
      "outputs": [
        {
          "name": "stdout",
          "output_type": "stream",
          "text": [
            "{'name': 'Vibhu', 'age': 20, 'city': 'Delhi', 'country': 'India'}\n"
          ]
        }
      ],
      "source": [
        "#29:-Write a code to combine two dictionaries into one and print the result.\n",
        "#ans:-\n",
        "# Create two dictionaries\n",
        "dict1 = {'name': 'Vibhu', 'age': 20}\n",
        "dict2 = {'city': 'Delhi', 'country': 'India'}\n",
        "\n",
        "# Combine dictionaries (Python 3.9+)\n",
        "combined_dict = dict1 | dict2\n",
        "\n",
        "# Print the combined dictionary\n",
        "print(combined_dict)\n"
      ]
    },
    {
      "cell_type": "code",
      "execution_count": null,
      "id": "974897b7",
      "metadata": {
        "id": "974897b7",
        "outputId": "e425f142-01a6-484a-fff2-56c8e1f91e1c"
      },
      "outputs": [
        {
          "name": "stdout",
          "output_type": "stream",
          "text": [
            "{'apple', 'banana', 'cherry'}\n"
          ]
        }
      ],
      "source": [
        "#30:-Write a code to convert a list of strings into a set.\n",
        "#ans:-\n",
        "# Create a list of strings\n",
        "fruits_list = [\"apple\", \"banana\", \"apple\", \"cherry\", \"banana\"]\n",
        "\n",
        "# Convert the list to a set to remove duplicates\n",
        "fruits_set = set(fruits_list)\n",
        "\n",
        "# Print the set\n",
        "print(fruits_set)\n"
      ]
    },
    {
      "cell_type": "markdown",
      "id": "9207ac2e",
      "metadata": {
        "id": "9207ac2e"
      },
      "source": [
        "Thankyou sir for this opurtunity ,\n",
        "Happy Rakhsha Bhandhan"
      ]
    }
  ],
  "metadata": {
    "kernelspec": {
      "display_name": "Python 3",
      "language": "python",
      "name": "python3"
    },
    "language_info": {
      "codemirror_mode": {
        "name": "ipython",
        "version": 3
      },
      "file_extension": ".py",
      "mimetype": "text/x-python",
      "name": "python",
      "nbconvert_exporter": "python",
      "pygments_lexer": "ipython3",
      "version": "3.13.5"
    },
    "colab": {
      "provenance": [],
      "include_colab_link": true
    }
  },
  "nbformat": 4,
  "nbformat_minor": 5
}